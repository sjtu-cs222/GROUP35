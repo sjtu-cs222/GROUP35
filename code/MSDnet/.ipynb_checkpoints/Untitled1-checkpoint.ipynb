{
 "cells": [
  {
   "cell_type": "code",
   "execution_count": 1,
   "metadata": {},
   "outputs": [
    {
     "name": "stdout",
     "output_type": "stream",
     "text": [
      "ship\n",
      "torch.Size([4, 3, 32, 32])\n"
     ]
    },
    {
     "data": {
      "text/plain": [
       "<Figure size 640x480 with 1 Axes>"
      ]
     },
     "metadata": {},
     "output_type": "display_data"
    }
   ],
   "source": [
    "import torchvision as tv\n",
    "import torchvision.transforms as transforms\n",
    "import torch as t\n",
    "from torchvision.transforms import ToPILImage\n",
    "show=ToPILImage()       #把Tensor转成Image，方便可视化\n",
    "import matplotlib.pyplot as plt\n",
    "import torchvision\n",
    "import numpy as np\n",
    "\n",
    "\n",
    "\n",
    "transform = transforms.Compose([transforms.ToTensor(),\n",
    "                                transforms.Normalize((0.5,0.5,0.5),(0.5,0.5,0.5)),\n",
    "                                ])\n",
    "trainset=tv.datasets.CIFAR10(root='../data',\n",
    "                             train=True,\n",
    "                             download=False,\n",
    "                             transform=transform)\n",
    "\n",
    "trainloader=t.utils.data.DataLoader(trainset,\n",
    "                                    batch_size=4,\n",
    "                                    shuffle=True,\n",
    "                                    num_workers=0)\n",
    "\n",
    "testset=tv.datasets.CIFAR10(root='../data',\n",
    "                             train=False,\n",
    "                             download=False,\n",
    "                             transform=transform)\n",
    "\n",
    "testloader=t.utils.data.DataLoader(testset,\n",
    "                                   batch_size=4,\n",
    "                                   shuffle=True,\n",
    "                                   num_workers=0)\n",
    "\n",
    "\n",
    "classes=('plane','car','bird','cat','deer','dog','frog','horse','ship','truck')\n",
    "\n",
    "(data,label)=trainset[100]\n",
    "print(classes[label])\n",
    "\n",
    "show((data+1)/2).resize((100,100))\n",
    "\n",
    "# dataiter=iter(trainloader)\n",
    "# images,labels=dataiter.next()\n",
    "# print(''.join('11%s'%classes[labels[j]] for j in range(4)))\n",
    "# show(tv.utils.make_grid(images+1)/2).resize((400,100))\n",
    "def imshow(img):\n",
    "    img = img / 2 + 0.5\n",
    "    npimg = img.numpy()\n",
    "    print(npimg)\n",
    "    plt.imshow(np.transpose(npimg, (1, 2, 0)))\n",
    "\n",
    "dataiter = iter(trainloader)\n",
    "images, labels = dataiter.next()\n",
    "print(images.size())\n",
    "imshow(torchvision.utils.make_grid(images))\n",
    "plt.show()"
   ]
  },
  {
   "cell_type": "code",
   "execution_count": null,
   "metadata": {},
   "outputs": [],
   "source": []
  }
 ],
 "metadata": {
  "kernelspec": {
   "display_name": "Python 2",
   "language": "python",
   "name": "python2"
  },
  "language_info": {
   "codemirror_mode": {
    "name": "ipython",
    "version": 2
   },
   "file_extension": ".py",
   "mimetype": "text/x-python",
   "name": "python",
   "nbconvert_exporter": "python",
   "pygments_lexer": "ipython2",
   "version": "2.7.12"
  }
 },
 "nbformat": 4,
 "nbformat_minor": 2
}
