{
 "cells": [
  {
   "cell_type": "code",
   "execution_count": 32,
   "metadata": {},
   "outputs": [
    {
     "name": "stdout",
     "output_type": "stream",
     "text": [
      "Files already downloaded and verified\n"
     ]
    }
   ],
   "source": [
    "import os\n",
    "import shutil\n",
    "import time\n",
    "import math\n",
    "import torch\n",
    "import torch.nn as nn\n",
    "import torch.nn.parallel\n",
    "import torch.backends.cudnn as cudnn\n",
    "import torch.optim\n",
    "import torch.utils.data\n",
    "import torchvision.transforms as transforms\n",
    "import torchvision.datasets as datasets\n",
    "import models\n",
    "\n",
    "train_set = datasets.CIFAR10('../data', train=True, download=True,\n",
    "                                     transform=transforms.Compose([\n",
    "                                         transforms.RandomCrop(32, padding=4),\n",
    "                                         transforms.RandomHorizontalFlip(),\n",
    "                                         transforms.ToTensor(),\n",
    "                                     ]))\n",
    "val_set = datasets.CIFAR10('../data', train=False,\n",
    "                                   transform=transforms.Compose([\n",
    "                                       transforms.ToTensor(),\n",
    "                                   ]))"
   ]
  },
  {
   "cell_type": "code",
   "execution_count": 33,
   "metadata": {},
   "outputs": [
    {
     "name": "stdout",
     "output_type": "stream",
     "text": [
      "<torch.utils.data.dataloader.DataLoader object at 0x7f0c4e12e550>\n"
     ]
    }
   ],
   "source": [
    "train_loader = torch.utils.data.DataLoader(\n",
    "        train_set,\n",
    "        batch_size=1, shuffle=False,\n",
    "        num_workers=2, pin_memory=True)\n",
    "\n",
    "val_loader = torch.utils.data.DataLoader(\n",
    "        val_set,\n",
    "        batch_size=1, shuffle=False,\n",
    "        num_workers=2, pin_memory=True)\n",
    "print (val_loader)"
   ]
  },
  {
   "cell_type": "code",
   "execution_count": 35,
   "metadata": {},
   "outputs": [
    {
     "name": "stdout",
     "output_type": "stream",
     "text": [
      "tensor([[[[ 0.6196,  0.6235,  0.6471,  ...,  0.5373,  0.4941,  0.4549],\n",
      "          [ 0.5961,  0.5922,  0.6235,  ...,  0.5333,  0.4902,  0.4667],\n",
      "          [ 0.5922,  0.5922,  0.6196,  ...,  0.5451,  0.5098,  0.4706],\n",
      "          ...,\n",
      "          [ 0.2667,  0.1647,  0.1216,  ...,  0.1490,  0.0510,  0.1569],\n",
      "          [ 0.2392,  0.1922,  0.1373,  ...,  0.1020,  0.1137,  0.0784],\n",
      "          [ 0.2118,  0.2196,  0.1765,  ...,  0.0941,  0.1333,  0.0824]],\n",
      "\n",
      "         [[ 0.4392,  0.4353,  0.4549,  ...,  0.3725,  0.3569,  0.3333],\n",
      "          [ 0.4392,  0.4314,  0.4471,  ...,  0.3725,  0.3569,  0.3451],\n",
      "          [ 0.4314,  0.4275,  0.4353,  ...,  0.3843,  0.3725,  0.3490],\n",
      "          ...,\n",
      "          [ 0.4863,  0.3922,  0.3451,  ...,  0.3804,  0.2510,  0.3333],\n",
      "          [ 0.4549,  0.4000,  0.3333,  ...,  0.3216,  0.3216,  0.2510],\n",
      "          [ 0.4196,  0.4118,  0.3490,  ...,  0.3020,  0.3294,  0.2627]],\n",
      "\n",
      "         [[ 0.1922,  0.1843,  0.2000,  ...,  0.1412,  0.1412,  0.1294],\n",
      "          [ 0.2000,  0.1569,  0.1765,  ...,  0.1216,  0.1255,  0.1333],\n",
      "          [ 0.1843,  0.1294,  0.1412,  ...,  0.1333,  0.1333,  0.1294],\n",
      "          ...,\n",
      "          [ 0.6941,  0.5804,  0.5373,  ...,  0.5725,  0.4235,  0.4980],\n",
      "          [ 0.6588,  0.5804,  0.5176,  ...,  0.5098,  0.4941,  0.4196],\n",
      "          [ 0.6275,  0.5843,  0.5176,  ...,  0.4863,  0.5059,  0.4314]]]])\n"
     ]
    }
   ],
   "source": [
    "for i, (input, target) in enumerate(train_loader):\n",
    "    print(input)\n",
    "    break"
   ]
  },
  {
   "cell_type": "code",
   "execution_count": 21,
   "metadata": {},
   "outputs": [
    {
     "ename": "TypeError",
     "evalue": "only integer scalar arrays can be converted to a scalar index",
     "output_type": "error",
     "traceback": [
      "\u001b[0;31m---------------------------------------------------------------------------\u001b[0m",
      "\u001b[0;31mTypeError\u001b[0m                                 Traceback (most recent call last)",
      "\u001b[0;32m<ipython-input-21-903f77ad5889>\u001b[0m in \u001b[0;36m<module>\u001b[0;34m()\u001b[0m\n\u001b[1;32m     12\u001b[0m     \u001b[0;32mfor\u001b[0m \u001b[0mj\u001b[0m \u001b[0;32min\u001b[0m \u001b[0mrange\u001b[0m\u001b[0;34m(\u001b[0m\u001b[0mlen\u001b[0m\u001b[0;34m(\u001b[0m\u001b[0mimg\u001b[0m\u001b[0;34m[\u001b[0m\u001b[0mi\u001b[0m\u001b[0;34m]\u001b[0m\u001b[0;34m)\u001b[0m\u001b[0;34m)\u001b[0m\u001b[0;34m:\u001b[0m\u001b[0;34m\u001b[0m\u001b[0m\n\u001b[1;32m     13\u001b[0m         \u001b[0mval\u001b[0m \u001b[0;34m=\u001b[0m \u001b[0mimg\u001b[0m\u001b[0;34m[\u001b[0m\u001b[0mi\u001b[0m\u001b[0;34m]\u001b[0m\u001b[0;34m[\u001b[0m\u001b[0mj\u001b[0m\u001b[0;34m]\u001b[0m\u001b[0;34m\u001b[0m\u001b[0m\n\u001b[0;32m---> 14\u001b[0;31m         \u001b[0mtmp\u001b[0m\u001b[0;34m[\u001b[0m\u001b[0mval\u001b[0m\u001b[0;34m]\u001b[0m \u001b[0;34m=\u001b[0m \u001b[0mfloat\u001b[0m\u001b[0;34m(\u001b[0m\u001b[0mtmp\u001b[0m\u001b[0;34m[\u001b[0m\u001b[0mval\u001b[0m\u001b[0;34m]\u001b[0m \u001b[0;34m+\u001b[0m \u001b[0;36m1\u001b[0m\u001b[0;34m)\u001b[0m\u001b[0;34m\u001b[0m\u001b[0m\n\u001b[0m\u001b[1;32m     15\u001b[0m         \u001b[0mk\u001b[0m \u001b[0;34m=\u001b[0m  \u001b[0mfloat\u001b[0m\u001b[0;34m(\u001b[0m\u001b[0mk\u001b[0m \u001b[0;34m+\u001b[0m \u001b[0;36m1\u001b[0m\u001b[0;34m)\u001b[0m\u001b[0;34m\u001b[0m\u001b[0m\n\u001b[1;32m     16\u001b[0m \u001b[0;32mfor\u001b[0m \u001b[0mi\u001b[0m \u001b[0;32min\u001b[0m \u001b[0mrange\u001b[0m\u001b[0;34m(\u001b[0m\u001b[0mlen\u001b[0m\u001b[0;34m(\u001b[0m\u001b[0mtmp\u001b[0m\u001b[0;34m)\u001b[0m\u001b[0;34m)\u001b[0m\u001b[0;34m:\u001b[0m\u001b[0;34m\u001b[0m\u001b[0m\n",
      "\u001b[0;31mTypeError\u001b[0m: only integer scalar arrays can be converted to a scalar index"
     ]
    }
   ],
   "source": [
    "\n",
    "import cv2\n",
    "import numpy as np\n",
    "tmp = []\n",
    "for i in range(256):\n",
    "    tmp.append(0)\n",
    "val = 0\n",
    "k = 0\n",
    "res = 0\n",
    "img =inputs\n",
    "for i in range(len(img)):\n",
    "    for j in range(len(img[i])):\n",
    "        val = img[i][j]\n",
    "        tmp[val] = float(tmp[val] + 1)\n",
    "        k =  float(k + 1)\n",
    "for i in range(len(tmp)):\n",
    "    tmp[i] = float(tmp[i] / k)\n",
    "for i in range(len(tmp)):\n",
    "    if(tmp[i] == 0):\n",
    "        res = res\n",
    "    else:\n",
    "        res = float(res - tmp[i] * (math.log(tmp[i]) / math.log(2.0)))\n",
    "print(res)"
   ]
  },
  {
   "cell_type": "code",
   "execution_count": null,
   "metadata": {},
   "outputs": [],
   "source": []
  },
  {
   "cell_type": "code",
   "execution_count": null,
   "metadata": {},
   "outputs": [],
   "source": []
  }
 ],
 "metadata": {
  "kernelspec": {
   "display_name": "Python 2",
   "language": "python",
   "name": "python2"
  },
  "language_info": {
   "codemirror_mode": {
    "name": "ipython",
    "version": 2
   },
   "file_extension": ".py",
   "mimetype": "text/x-python",
   "name": "python",
   "nbconvert_exporter": "python",
   "pygments_lexer": "ipython2",
   "version": "2.7.12"
  }
 },
 "nbformat": 4,
 "nbformat_minor": 2
}
